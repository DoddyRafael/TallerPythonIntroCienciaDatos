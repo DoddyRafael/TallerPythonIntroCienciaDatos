{
 "cells": [
  {
   "cell_type": "markdown",
   "metadata": {},
   "source": [
    "<!--BOOK_INFORMATION-->\n",
    "<img align=\"left\" style=\"padding-right:10px;\" src=\"figures/header_small.png\">\n",
    "\n",
    "*Esta libreta contiene material del Taller de Python que se lleva a cabo como parte del \n",
    "evento [Data Challenge Industrial 4.0](www.lania.mx/dci). El contenido ha sido adaptado \n",
    "por HTM y GED a partir del libro [Python Data Science Handbook](http://shop.oreilly.com/product/0636920034919.do) \n",
    "de Jake VanderPlas y se mantiene la licencia sobre el texto, \n",
    "[CC-BY-NC-ND license](https://creativecommons.org/licenses/by-nc-nd/3.0/us/legalcode), \n",
    "y sobre el codigo [MIT license](https://opensource.org/licenses/MIT).*"
   ]
  },
  {
   "cell_type": "markdown",
   "metadata": {},
   "source": [
    "<!--NAVIGATION-->\n",
    "< [Series de tiempo](02.09-Working-with-Time-Series.ipynb) | [Contenido](Index.ipynb) | [¿Qué es Machine Learning?](03.01-What-Is-Machine-Learning.ipynb) >\n",
    "\n",
    "<a href=\"https://colab.research.google.com/github/DoddyRafael/TallerPythonIntroCienciaDatos/blob/icd_ffuv/notebooks/03.00-Machine-Learning.ipynb\"><img align=\"left\" src=\"https://colab.research.google.com/assets/colab-badge.svg\" alt=\"Open in Colab\" title=\"Open and Execute in Google Colaboratory\"></a>\n"
   ]
  },
  {
   "cell_type": "markdown",
   "metadata": {},
   "source": [
    "# Machine Learning"
   ]
  },
  {
   "cell_type": "markdown",
   "metadata": {},
   "source": [
    "Considerado como una rama de la Inteligencia Artificial, Machine Learning (ML) o aprendizaje de máquina, es el estudio científico de algoritmos y models estadísticos que pueden emplearse por los sistemas computacionales para realizar tareas específicas sin tener que instruirlas explícitamente.\n",
    "En muchas formas, es en el aprendizaje de máquina como la ciencia de datos se manifiesta de forma directa y amplia. El término \"machine learning\" engloba un conjunto de métodos computacionales basados en conceptos estadísticos para resolver tareas específicas que suelen categorizarse en:\n",
    "\n",
    "- aprendizaje supervisado, donde el algoritmo construye un modelo a partir de una conjunto de datos que incluye entradas y salidas asociadas a cada entrada, y\n",
    "- aprendizaje no supervisado, donde el algoritmo construye un modelo a partir d eun conjunto de datos que contien unicamente entradas sin salidas asociadas.\n",
    "\n",
    "En ésta sección vamos a ver algunos aspectos prácticos de ML usando la librería [Scikit-Learn](http://scikit-learn.org) no es, sin embargo, una introducción al campo pues para eso necesitamos más tiempo y un enfoque muchos más técnico. Tampoco puede considerarse como un manual para la librería de Scikit-Learn, para esto pueden ver la lista de recursos en [Recursos adicionales Machine Learning](03.11-Learning-More.ipynb). Las metas de ésta sección son:\n",
    "\n",
    "- Presentar parte del vocabulario y conceptos básicos de ML\n",
    "- Introducir la librería de Scikit-Learn por medio de algunos ejemplos de uso.\n",
    "- Desarrollar un poco de intuición sobre como funcionan algunos métodos y cuando y como aplicarlos."
   ]
  },
  {
   "cell_type": "markdown",
   "metadata": {},
   "source": [
    "<!--NAVIGATION-->\n",
    "< [Series de tiempo](02.09-Working-with-Time-Series.ipynb) | [Contenido](Index.ipynb) | [¿Qué es Machine Learning?](03.01-What-Is-Machine-Learning.ipynb) >\n",
    "\n",
    "<a href=\"https://colab.research.google.com/github/htapia/TallerPythonIntroCienciaDatos/blob/master/notebooks/03.00-Machine-Learning.ipynb\"><img align=\"left\" src=\"https://colab.research.google.com/assets/colab-badge.svg\" alt=\"Open in Colab\" title=\"Open and Execute in Google Colaboratory\"></a>\n"
   ]
  }
 ],
 "metadata": {
  "anaconda-cloud": {},
  "kernelspec": {
   "display_name": "Python 3",
   "language": "python",
   "name": "python3"
  },
  "language_info": {
   "codemirror_mode": {
    "name": "ipython",
    "version": 3
   },
   "file_extension": ".py",
   "mimetype": "text/x-python",
   "name": "python",
   "nbconvert_exporter": "python",
   "pygments_lexer": "ipython3",
   "version": "3.7.1"
  }
 },
 "nbformat": 4,
 "nbformat_minor": 1
}
